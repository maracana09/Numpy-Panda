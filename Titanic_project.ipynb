{
 "cells": [
  {
   "cell_type": "markdown",
   "metadata": {},
   "source": [
    "# Titanic Disaster Analysis #\n",
    "\n",
    "I investigate the Titanic data to find the factors that make people more likely to survive. This is for Investigate a Dataset project. The data is taken from titanic_data.csv. My questions are:\n",
    "- Is there any correlation between age and gender with the survival?\n",
    "- Is there any correlation between the cabin class and the survival?\n",
    "- Are those who travel together with their siblings or family are more likely to survive?\n",
    "- Is there any correlation between Cabin number and the survivability?\n",
    "\n",
    "Below is the outline of this notebook:\n",
    "1. Loading the data\n",
    "2. Filling out the missing values\n",
    "3. Exploration\n",
    "4. Conclusion"
   ]
  },
  {
   "cell_type": "markdown",
   "metadata": {},
   "source": [
    "## Loading the data ##\n",
    "I will load the data into Panda DataFrame. It is called titanic_df. I will show the first 5 rows of the data."
   ]
  },
  {
   "cell_type": "code",
   "execution_count": 2,
   "metadata": {},
   "outputs": [
    {
     "data": {
      "text/html": [
       "<div>\n",
       "<style>\n",
       "    .dataframe thead tr:only-child th {\n",
       "        text-align: right;\n",
       "    }\n",
       "\n",
       "    .dataframe thead th {\n",
       "        text-align: left;\n",
       "    }\n",
       "\n",
       "    .dataframe tbody tr th {\n",
       "        vertical-align: top;\n",
       "    }\n",
       "</style>\n",
       "<table border=\"1\" class=\"dataframe\">\n",
       "  <thead>\n",
       "    <tr style=\"text-align: right;\">\n",
       "      <th></th>\n",
       "      <th>PassengerId</th>\n",
       "      <th>Survived</th>\n",
       "      <th>Pclass</th>\n",
       "      <th>Name</th>\n",
       "      <th>Sex</th>\n",
       "      <th>Age</th>\n",
       "      <th>SibSp</th>\n",
       "      <th>Parch</th>\n",
       "      <th>Ticket</th>\n",
       "      <th>Fare</th>\n",
       "      <th>Cabin</th>\n",
       "      <th>Embarked</th>\n",
       "    </tr>\n",
       "  </thead>\n",
       "  <tbody>\n",
       "    <tr>\n",
       "      <th>0</th>\n",
       "      <td>1</td>\n",
       "      <td>0</td>\n",
       "      <td>3</td>\n",
       "      <td>Braund, Mr. Owen Harris</td>\n",
       "      <td>male</td>\n",
       "      <td>22.0</td>\n",
       "      <td>1</td>\n",
       "      <td>0</td>\n",
       "      <td>A/5 21171</td>\n",
       "      <td>7.2500</td>\n",
       "      <td>NaN</td>\n",
       "      <td>S</td>\n",
       "    </tr>\n",
       "    <tr>\n",
       "      <th>1</th>\n",
       "      <td>2</td>\n",
       "      <td>1</td>\n",
       "      <td>1</td>\n",
       "      <td>Cumings, Mrs. John Bradley (Florence Briggs Th...</td>\n",
       "      <td>female</td>\n",
       "      <td>38.0</td>\n",
       "      <td>1</td>\n",
       "      <td>0</td>\n",
       "      <td>PC 17599</td>\n",
       "      <td>71.2833</td>\n",
       "      <td>C85</td>\n",
       "      <td>C</td>\n",
       "    </tr>\n",
       "    <tr>\n",
       "      <th>2</th>\n",
       "      <td>3</td>\n",
       "      <td>1</td>\n",
       "      <td>3</td>\n",
       "      <td>Heikkinen, Miss. Laina</td>\n",
       "      <td>female</td>\n",
       "      <td>26.0</td>\n",
       "      <td>0</td>\n",
       "      <td>0</td>\n",
       "      <td>STON/O2. 3101282</td>\n",
       "      <td>7.9250</td>\n",
       "      <td>NaN</td>\n",
       "      <td>S</td>\n",
       "    </tr>\n",
       "    <tr>\n",
       "      <th>3</th>\n",
       "      <td>4</td>\n",
       "      <td>1</td>\n",
       "      <td>1</td>\n",
       "      <td>Futrelle, Mrs. Jacques Heath (Lily May Peel)</td>\n",
       "      <td>female</td>\n",
       "      <td>35.0</td>\n",
       "      <td>1</td>\n",
       "      <td>0</td>\n",
       "      <td>113803</td>\n",
       "      <td>53.1000</td>\n",
       "      <td>C123</td>\n",
       "      <td>S</td>\n",
       "    </tr>\n",
       "    <tr>\n",
       "      <th>4</th>\n",
       "      <td>5</td>\n",
       "      <td>0</td>\n",
       "      <td>3</td>\n",
       "      <td>Allen, Mr. William Henry</td>\n",
       "      <td>male</td>\n",
       "      <td>35.0</td>\n",
       "      <td>0</td>\n",
       "      <td>0</td>\n",
       "      <td>373450</td>\n",
       "      <td>8.0500</td>\n",
       "      <td>NaN</td>\n",
       "      <td>S</td>\n",
       "    </tr>\n",
       "  </tbody>\n",
       "</table>\n",
       "</div>"
      ],
      "text/plain": [
       "   PassengerId  Survived  Pclass  \\\n",
       "0            1         0       3   \n",
       "1            2         1       1   \n",
       "2            3         1       3   \n",
       "3            4         1       1   \n",
       "4            5         0       3   \n",
       "\n",
       "                                                Name     Sex   Age  SibSp  \\\n",
       "0                            Braund, Mr. Owen Harris    male  22.0      1   \n",
       "1  Cumings, Mrs. John Bradley (Florence Briggs Th...  female  38.0      1   \n",
       "2                             Heikkinen, Miss. Laina  female  26.0      0   \n",
       "3       Futrelle, Mrs. Jacques Heath (Lily May Peel)  female  35.0      1   \n",
       "4                           Allen, Mr. William Henry    male  35.0      0   \n",
       "\n",
       "   Parch            Ticket     Fare Cabin Embarked  \n",
       "0      0         A/5 21171   7.2500   NaN        S  \n",
       "1      0          PC 17599  71.2833   C85        C  \n",
       "2      0  STON/O2. 3101282   7.9250   NaN        S  \n",
       "3      0            113803  53.1000  C123        S  \n",
       "4      0            373450   8.0500   NaN        S  "
      ]
     },
     "execution_count": 2,
     "metadata": {},
     "output_type": "execute_result"
    }
   ],
   "source": [
    "import pandas as pd\n",
    "import numpy as np\n",
    "from pylab import *\n",
    "\n",
    "titanic_df = pd.read_csv('titanic_data.csv')\n",
    "titanic_df.head()"
   ]
  },
  {
   "cell_type": "markdown",
   "metadata": {},
   "source": [
    "### Filling Out The Missing Values ###\n",
    "I will check whether there is missing value in the data and find where it is located."
   ]
  },
  {
   "cell_type": "code",
   "execution_count": 2,
   "metadata": {},
   "outputs": [
    {
     "name": "stdout",
     "output_type": "stream",
     "text": [
      "<class 'pandas.core.frame.DataFrame'>\n",
      "RangeIndex: 891 entries, 0 to 890\n",
      "Data columns (total 12 columns):\n",
      "PassengerId    891 non-null int64\n",
      "Survived       891 non-null int64\n",
      "Pclass         891 non-null int64\n",
      "Name           891 non-null object\n",
      "Sex            891 non-null object\n",
      "Age            714 non-null float64\n",
      "SibSp          891 non-null int64\n",
      "Parch          891 non-null int64\n",
      "Ticket         891 non-null object\n",
      "Fare           891 non-null float64\n",
      "Cabin          204 non-null object\n",
      "Embarked       889 non-null object\n",
      "dtypes: float64(2), int64(5), object(5)\n",
      "memory usage: 83.6+ KB\n"
     ]
    }
   ],
   "source": [
    "titanic_df.info()"
   ]
  },
  {
   "cell_type": "markdown",
   "metadata": {},
   "source": [
    "There are missing values in 'Age', 'Cabin', and 'Embarked' column. Their total number is less than the other column. I will fill in the blank for the 'age' column. \n",
    "\n",
    "There was a \"Women and children first\" policy for filling up the lifeboats. I put female and child in one group as'female/child', and adult male as 'male'. I consider 'child' if their age below 12 years old. I calculate their median age and use it to fill the missing age values."
   ]
  },
  {
   "cell_type": "code",
   "execution_count": 3,
   "metadata": {
    "collapsed": true
   },
   "outputs": [],
   "source": [
    "def Grouping(b):\n",
    "    if b['Age'] < 12:\n",
    "        return 'female/child'\n",
    "    elif b['Sex'] == 'female' and b['Age'] >= 12:\n",
    "        return 'female/child'\n",
    "    elif b['Sex'] == 'male' and b['Age'] >= 12:\n",
    "        return 'male'"
   ]
  },
  {
   "cell_type": "code",
   "execution_count": 4,
   "metadata": {},
   "outputs": [
    {
     "data": {
      "text/plain": [
       "Grouping\n",
       "female/child    24.0\n",
       "male            30.0\n",
       "Name: Age, dtype: float64"
      ]
     },
     "execution_count": 4,
     "metadata": {},
     "output_type": "execute_result"
    }
   ],
   "source": [
    "titanic_df['Grouping'] = titanic_df.apply(Grouping, axis=1)\n",
    "titanic_df.groupby('Grouping')['Age'].median()"
   ]
  },
  {
   "cell_type": "code",
   "execution_count": 5,
   "metadata": {
    "collapsed": true
   },
   "outputs": [],
   "source": [
    "FemaleMed = 24\n",
    "MaleMed = 30"
   ]
  },
  {
   "cell_type": "markdown",
   "metadata": {
    "collapsed": true
   },
   "source": [
    "I am creating the box plot of the 'Grouping', 'Age', and Survivability. Before that I am going to make a new column stated that '1' is 'survived', whereas '0' is 'perished'."
   ]
  },
  {
   "cell_type": "code",
   "execution_count": 6,
   "metadata": {
    "collapsed": true
   },
   "outputs": [],
   "source": [
    "def fate(a):\n",
    "    if a == 1:\n",
    "        return 'survived'\n",
    "    else:\n",
    "        return 'perished'\n",
    "\n",
    "titanic_df['Fate'] = titanic_df['Survived'].apply(fate)"
   ]
  },
  {
   "cell_type": "code",
   "execution_count": 3,
   "metadata": {
    "collapsed": true
   },
   "outputs": [],
   "source": [
    "import matplotlib.pyplot as plt\n",
    "%matplotlib inline\n",
    "import seaborn as sns"
   ]
  },
  {
   "cell_type": "code",
   "execution_count": 8,
   "metadata": {},
   "outputs": [
    {
     "data": {
      "image/png": "[encoded data removed]",
      "text/plain": [
       "<matplotlib.figure.Figure at 0x1174cfc18>"
      ]
     },
     "metadata": {},
     "output_type": "display_data"
    }
   ],
   "source": [
    "sns.boxplot(x=\"Grouping\", y=\"Age\",hue=\"Fate\", fliersize=4, width=0.5, \n",
    "            data=titanic_df).set_title(\"Survivability by Age\")\n",
    "plt.show()"
   ]
  },
  {
   "cell_type": "markdown",
   "metadata": {},
   "source": [
    "I find that there are a few types of name's title whose age is missing:\n",
    "- Mr., which I classify as adult male, therefore in male group.\n",
    "- Mrs., which I classify as adult female, therefore in female/child group.\n",
    "- Miss., which I classify in female/child group.\n",
    "- Master., which used to be the title for the boy, I classify it as female/child group.\n",
    "- Dr., which can be male/female. I try to find among the missing value in Age column, there is only one 'Dr.' which has Passenger ID 767. The classification is based on the 'Sex'. If male, then in male group. If female, then in female/child group.\n",
    "\n",
    "I am going to fill the children missing age as 6 years old. The missing female age is filled with the median of known female and child age. All missing adult male age is the median adult male age."
   ]
  },
  {
   "cell_type": "code",
   "execution_count": 9,
   "metadata": {
    "collapsed": true
   },
   "outputs": [],
   "source": [
    "for i in range (len (titanic_df.Name)):\n",
    "    if 'Mrs.' or 'Miss.' in titanic_df.Name[i]:\n",
    "        titanic_df.Age.fillna(value=FemaleMed, inplace=True)\n",
    "    if 'Master.' in titanic_df.Name[i]:\n",
    "        titanic_df.Age.fillna(value=6, inplace=True)\n",
    "    if 'Mr.' in titanic_df.Name[i]:\n",
    "        titanic_df.Age.fillna(value=MaleMed, inplace=True)"
   ]
  },
  {
   "cell_type": "code",
   "execution_count": 10,
   "metadata": {
    "collapsed": true
   },
   "outputs": [],
   "source": [
    "titanic_df['Age'] = (np.where(titanic_df['PassengerId'] == 767, \n",
    "                    np.where(titanic_df['Sex'] == 'male', MaleMed, FemaleMed), titanic_df['Age']))"
   ]
  },
  {
   "cell_type": "markdown",
   "metadata": {},
   "source": [
    "Because of missing age, some values in 'Grouping' column is still missing. Since I have filled all the age, I will fill in the missing value in 'Grouping' column."
   ]
  },
  {
   "cell_type": "code",
   "execution_count": 11,
   "metadata": {
    "collapsed": true
   },
   "outputs": [],
   "source": [
    "titanic_df['Grouping'] = titanic_df.apply(Grouping, axis=1)"
   ]
  },
  {
   "cell_type": "code",
   "execution_count": 12,
   "metadata": {},
   "outputs": [
    {
     "data": {
      "text/html": [
       "<div>\n",
       "<style>\n",
       "    .dataframe thead tr:only-child th {\n",
       "        text-align: right;\n",
       "    }\n",
       "\n",
       "    .dataframe thead th {\n",
       "        text-align: left;\n",
       "    }\n",
       "\n",
       "    .dataframe tbody tr th {\n",
       "        vertical-align: top;\n",
       "    }\n",
       "</style>\n",
       "<table border=\"1\" class=\"dataframe\">\n",
       "  <thead>\n",
       "    <tr style=\"text-align: right;\">\n",
       "      <th>Embarked</th>\n",
       "      <th>C</th>\n",
       "      <th>Q</th>\n",
       "      <th>S</th>\n",
       "    </tr>\n",
       "    <tr>\n",
       "      <th>Sex</th>\n",
       "      <th></th>\n",
       "      <th></th>\n",
       "      <th></th>\n",
       "    </tr>\n",
       "  </thead>\n",
       "  <tbody>\n",
       "    <tr>\n",
       "      <th>female</th>\n",
       "      <td>73</td>\n",
       "      <td>36</td>\n",
       "      <td>203</td>\n",
       "    </tr>\n",
       "    <tr>\n",
       "      <th>male</th>\n",
       "      <td>95</td>\n",
       "      <td>41</td>\n",
       "      <td>441</td>\n",
       "    </tr>\n",
       "  </tbody>\n",
       "</table>\n",
       "</div>"
      ],
      "text/plain": [
       "Embarked   C   Q    S\n",
       "Sex                  \n",
       "female    73  36  203\n",
       "male      95  41  441"
      ]
     },
     "execution_count": 12,
     "metadata": {},
     "output_type": "execute_result"
    }
   ],
   "source": [
    "titanic_df.groupby(['Embarked','Sex'])['Embarked'].count().unstack('Embarked')"
   ]
  },
  {
   "cell_type": "markdown",
   "metadata": {},
   "source": [
    "There are 2 missing values in 'Embark' column. Most of the passenger embarked from 'S' which is Southampton. I will just fill the missing value in 'Embarked' with 'S', similar with the majority of the passenger. It would not much affect the total Embarked percentage."
   ]
  },
  {
   "cell_type": "code",
   "execution_count": 13,
   "metadata": {
    "collapsed": true
   },
   "outputs": [],
   "source": [
    "titanic_df.Embarked.fillna(value='S', inplace=True)"
   ]
  },
  {
   "cell_type": "markdown",
   "metadata": {},
   "source": [
    "There is quite a lot of missing value in Cabin column. I wonder whether it has relation with the survivability. I get to know from google that the Odd number cabin is on the *Starboard*, whereas Even number cabin is on the *Port* side of the ship. *Starboard* means the side of a ship that is on the right when one is facing forward, whereas *port* is the side of a ship that is on the left when one is facing forward.\n",
    "\n",
    "I will create a new column called 'CabinSide' to show whether the passenger stay in Starboard or Port side of the ship. Those who don't have the cabin number is filled with 'Unknown'. Their missing values in Cabin column are filled with 'NaN'."
   ]
  },
  {
   "cell_type": "code",
   "execution_count": 14,
   "metadata": {
    "collapsed": true
   },
   "outputs": [],
   "source": [
    "titanic_df['CabinSide'] = 'Unknown'\n",
    "titanic_df['Cabin'].fillna('NaN', inplace=True)"
   ]
  },
  {
   "cell_type": "code",
   "execution_count": 15,
   "metadata": {
    "collapsed": true
   },
   "outputs": [],
   "source": [
    "titanic_df['CabinSide'] = (np.where(titanic_df[\"Cabin\"].str[-1].isin([\"1\", \"3\", \"5\", \"7\", \"9\"]), \"Starboard\",\n",
    "        np.where(titanic_df[\"Cabin\"].str[-1].isin([\"0\", \"2\", \"4\", \"6\", \"8\"]), \"Port\", titanic_df[\"CabinSide\"])))"
   ]
  },
  {
   "cell_type": "markdown",
   "metadata": {},
   "source": [
    "I find that there is people who have more than 1 cabin. One particular concern is The Ryerson whose cabin number is B57 B59 B63 B66, containing both even and odd number. I just assume that they are all gathered on Starboard (odd-number cabin). Their ticket is <b>PC 17608</b>, so I use it to index the row of the Ryerson. "
   ]
  },
  {
   "cell_type": "code",
   "execution_count": 16,
   "metadata": {
    "collapsed": true
   },
   "outputs": [],
   "source": [
    "titanic_df.loc[titanic_df[\"Ticket\"]==\"PC 17608\", \"CabinSide\"] = \"Starboard\""
   ]
  },
  {
   "cell_type": "code",
   "execution_count": 17,
   "metadata": {},
   "outputs": [
    {
     "data": {
      "text/plain": [
       "(array([], dtype=int64), array([], dtype=int64))"
      ]
     },
     "execution_count": 17,
     "metadata": {},
     "output_type": "execute_result"
    }
   ],
   "source": [
    "np.where(pd.isnull(titanic_df))"
   ]
  },
  {
   "cell_type": "markdown",
   "metadata": {},
   "source": [
    "I find that there is no more missing values."
   ]
  },
  {
   "cell_type": "markdown",
   "metadata": {},
   "source": [
    "## Exploration Phase ##\n",
    "I will check which group has the highest casualties. I start first with the gender, after that the cabin class."
   ]
  },
  {
   "cell_type": "markdown",
   "metadata": {},
   "source": [
    "### Male Survivability ### \n",
    "I will analyze whether gender will affect the survivability. After that create a stacked bar chart from that data."
   ]
  },
  {
   "cell_type": "code",
   "execution_count": 18,
   "metadata": {},
   "outputs": [
    {
     "data": {
      "text/html": [
       "<div>\n",
       "<style>\n",
       "    .dataframe thead tr:only-child th {\n",
       "        text-align: right;\n",
       "    }\n",
       "\n",
       "    .dataframe thead th {\n",
       "        text-align: left;\n",
       "    }\n",
       "\n",
       "    .dataframe tbody tr th {\n",
       "        vertical-align: top;\n",
       "    }\n",
       "</style>\n",
       "<table border=\"1\" class=\"dataframe\">\n",
       "  <thead>\n",
       "    <tr style=\"text-align: right;\">\n",
       "      <th>Sex</th>\n",
       "      <th>female</th>\n",
       "      <th>male</th>\n",
       "    </tr>\n",
       "    <tr>\n",
       "      <th>Fate</th>\n",
       "      <th></th>\n",
       "      <th></th>\n",
       "    </tr>\n",
       "  </thead>\n",
       "  <tbody>\n",
       "    <tr>\n",
       "      <th>perished</th>\n",
       "      <td>81</td>\n",
       "      <td>468</td>\n",
       "    </tr>\n",
       "    <tr>\n",
       "      <th>survived</th>\n",
       "      <td>233</td>\n",
       "      <td>109</td>\n",
       "    </tr>\n",
       "  </tbody>\n",
       "</table>\n",
       "</div>"
      ],
      "text/plain": [
       "Sex       female  male\n",
       "Fate                  \n",
       "perished      81   468\n",
       "survived     233   109"
      ]
     },
     "execution_count": 18,
     "metadata": {},
     "output_type": "execute_result"
    }
   ],
   "source": [
    "titanic_df.groupby(['Fate','Sex'])['Sex'].count().unstack('Sex')"
   ]
  },
  {
   "cell_type": "code",
   "execution_count": 19,
   "metadata": {},
   "outputs": [
    {
     "data": {
      "image/png": "[encoded data removed]",
      "text/plain": [
       "<matplotlib.figure.Figure at 0x119d150f0>"
      ]
     },
     "metadata": {},
     "output_type": "display_data"
    }
   ],
   "source": [
    "sur = titanic_df.groupby(['Survived','Sex'])['Sex'].count().unstack('Sex').loc[1, :]\n",
    "per = titanic_df.groupby(['Survived','Sex'])['Sex'].count().unstack('Sex').loc[0, :]\n",
    "\n",
    "ind = np.arange(2)\n",
    "p1 = plt.bar(ind, per, 0.5, color='olive')\n",
    "p2 = plt.bar(ind, sur, 0.5, color='sandybrown', bottom=per)\n",
    "\n",
    "plt.xlabel('Gender')\n",
    "plt.ylabel('People')\n",
    "plt.title('Gender survivability')\n",
    "plt.xticks(ind, ('female', 'male'))\n",
    "plt.yticks(np.arange(0, 600, 100))\n",
    "plt.legend((p1[0], p2[0]), ('perished', 'survived'))\n",
    "\n",
    "plt.show()"
   ]
  },
  {
   "cell_type": "markdown",
   "metadata": {},
   "source": [
    "I find that the male have much more casualties than female in term of percentage and number."
   ]
  },
  {
   "cell_type": "markdown",
   "metadata": {},
   "source": [
    "### Does the first class survive better? ###\n",
    "I am going to compare between 3 cabin class and the survivability. Afterward, I am going to create the countplot from that data."
   ]
  },
  {
   "cell_type": "code",
   "execution_count": 20,
   "metadata": {
    "scrolled": true
   },
   "outputs": [
    {
     "data": {
      "text/html": [
       "<div>\n",
       "<style>\n",
       "    .dataframe thead tr:only-child th {\n",
       "        text-align: right;\n",
       "    }\n",
       "\n",
       "    .dataframe thead th {\n",
       "        text-align: left;\n",
       "    }\n",
       "\n",
       "    .dataframe tbody tr th {\n",
       "        vertical-align: top;\n",
       "    }\n",
       "</style>\n",
       "<table border=\"1\" class=\"dataframe\">\n",
       "  <thead>\n",
       "    <tr style=\"text-align: right;\">\n",
       "      <th>Pclass</th>\n",
       "      <th>1</th>\n",
       "      <th>2</th>\n",
       "      <th>3</th>\n",
       "    </tr>\n",
       "    <tr>\n",
       "      <th>Fate</th>\n",
       "      <th></th>\n",
       "      <th></th>\n",
       "      <th></th>\n",
       "    </tr>\n",
       "  </thead>\n",
       "  <tbody>\n",
       "    <tr>\n",
       "      <th>perished</th>\n",
       "      <td>80</td>\n",
       "      <td>97</td>\n",
       "      <td>372</td>\n",
       "    </tr>\n",
       "    <tr>\n",
       "      <th>survived</th>\n",
       "      <td>136</td>\n",
       "      <td>87</td>\n",
       "      <td>119</td>\n",
       "    </tr>\n",
       "  </tbody>\n",
       "</table>\n",
       "</div>"
      ],
      "text/plain": [
       "Pclass      1   2    3\n",
       "Fate                  \n",
       "perished   80  97  372\n",
       "survived  136  87  119"
      ]
     },
     "execution_count": 20,
     "metadata": {},
     "output_type": "execute_result"
    }
   ],
   "source": [
    "titanic_df.groupby(['Fate','Pclass'])['Pclass'].count().unstack('Pclass')"
   ]
  },
  {
   "cell_type": "code",
   "execution_count": 21,
   "metadata": {
    "scrolled": true
   },
   "outputs": [
    {
     "data": {
      "image/png": "[encoded data removed]",
      "text/plain": [
       "<matplotlib.figure.Figure at 0x119d21a20>"
      ]
     },
     "metadata": {},
     "output_type": "display_data"
    }
   ],
   "source": [
    "j = sns.countplot(y=\"Pclass\", hue=\"Fate\", data=titanic_df, palette=\"hls\")\n",
    "j.set(xlabel='Number of People', ylabel='Cabin Class', title=\"Survivability by Cabin Class\")\n",
    "plt.show()"
   ]
  },
  {
   "cell_type": "code",
   "execution_count": 11,
   "metadata": {},
   "outputs": [
    {
     "data": {
      "image/png": "[encoded data removed]",
      "text/plain": [
       "<matplotlib.figure.Figure at 0x119b3cda0>"
      ]
     },
     "metadata": {},
     "output_type": "display_data"
    }
   ],
   "source": [
    "plot = sns.countplot(x=\"Pclass\", hue=\"Survived\", data=titanic_df, palette=\"GnBu_d\")\n",
    "plot.set(xlabel='Ticket class', ylabel='Survival')\n",
    "sns.plt.title(\"Survival by ticket class\")\n",
    "labels_x = [\"1st\", \"2nd\", \"3rd\"]\n",
    "plot.set_xticklabels(labels_x)\n",
    "\n",
    "handles, labels = plt.gca().get_legend_handles_labels()\n",
    "plt.legend(handles, ['Perished','Survived'])\n",
    "plt.show()"
   ]
  },
  {
   "cell_type": "markdown",
   "metadata": {},
   "source": [
    "The survivability rate is the highest among the first class. The third class survivability is the lowest, their quantity is also the greatest."
   ]
  },
  {
   "cell_type": "markdown",
   "metadata": {},
   "source": [
    "### Does travelling alone affect the survivability? ###\n",
    "\n",
    "I am going to analyze from <b>SibSp</b>. It shows how many sibling and spouse that the passenger has on board. Below is the definition:<br>\n",
    "Sibling = brother, sister, stepbrother, stepsister<br>\n",
    "Spouse = husband, wife (mistresses and fiancés are not included)\n",
    "\n",
    "I am also going to analyze from <b>Parch</b>. It shows how many parent and child that the passenger has on board. Even though some children might travelled only with a nanny, but nanny is not included.<br>\n",
    "Parent = mother, father<br>\n",
    "Child = daughter, son, stepdaughter, stepson\n",
    "\n",
    "I will combine the <b>SibSp</b> and <b>Parch</b> to be one column called RelativeSize, and then compare the survivability between those who have family on board and those who do not. After that, I create a chart from that data."
   ]
  },
  {
   "cell_type": "code",
   "execution_count": 5,
   "metadata": {
    "collapsed": true
   },
   "outputs": [],
   "source": [
    "titanic_df['RelativeSize'] = titanic_df['SibSp'] + titanic_df['Parch']"
   ]
  },
  {
   "cell_type": "code",
   "execution_count": 23,
   "metadata": {},
   "outputs": [
    {
     "data": {
      "text/html": [
       "<div>\n",
       "<style>\n",
       "    .dataframe thead tr:only-child th {\n",
       "        text-align: right;\n",
       "    }\n",
       "\n",
       "    .dataframe thead th {\n",
       "        text-align: left;\n",
       "    }\n",
       "\n",
       "    .dataframe tbody tr th {\n",
       "        vertical-align: top;\n",
       "    }\n",
       "</style>\n",
       "<table border=\"1\" class=\"dataframe\">\n",
       "  <thead>\n",
       "    <tr style=\"text-align: right;\">\n",
       "      <th>RelativeSize</th>\n",
       "      <th>0</th>\n",
       "      <th>1</th>\n",
       "      <th>2</th>\n",
       "      <th>3</th>\n",
       "      <th>4</th>\n",
       "      <th>5</th>\n",
       "      <th>6</th>\n",
       "      <th>7</th>\n",
       "      <th>10</th>\n",
       "    </tr>\n",
       "    <tr>\n",
       "      <th>Fate</th>\n",
       "      <th></th>\n",
       "      <th></th>\n",
       "      <th></th>\n",
       "      <th></th>\n",
       "      <th></th>\n",
       "      <th></th>\n",
       "      <th></th>\n",
       "      <th></th>\n",
       "      <th></th>\n",
       "    </tr>\n",
       "  </thead>\n",
       "  <tbody>\n",
       "    <tr>\n",
       "      <th>perished</th>\n",
       "      <td>374.0</td>\n",
       "      <td>72.0</td>\n",
       "      <td>43.0</td>\n",
       "      <td>8.0</td>\n",
       "      <td>12.0</td>\n",
       "      <td>19.0</td>\n",
       "      <td>8.0</td>\n",
       "      <td>6.0</td>\n",
       "      <td>7.0</td>\n",
       "    </tr>\n",
       "    <tr>\n",
       "      <th>survived</th>\n",
       "      <td>163.0</td>\n",
       "      <td>89.0</td>\n",
       "      <td>59.0</td>\n",
       "      <td>21.0</td>\n",
       "      <td>3.0</td>\n",
       "      <td>3.0</td>\n",
       "      <td>4.0</td>\n",
       "      <td>NaN</td>\n",
       "      <td>NaN</td>\n",
       "    </tr>\n",
       "  </tbody>\n",
       "</table>\n",
       "</div>"
      ],
      "text/plain": [
       "RelativeSize     0     1     2     3     4     5    6    7    10\n",
       "Fate                                                            \n",
       "perished      374.0  72.0  43.0   8.0  12.0  19.0  8.0  6.0  7.0\n",
       "survived      163.0  89.0  59.0  21.0   3.0   3.0  4.0  NaN  NaN"
      ]
     },
     "execution_count": 23,
     "metadata": {},
     "output_type": "execute_result"
    }
   ],
   "source": [
    "titanic_df.groupby(['Fate','RelativeSize'])['RelativeSize'].count().unstack('RelativeSize')"
   ]
  },
  {
   "cell_type": "code",
   "execution_count": 24,
   "metadata": {
    "scrolled": true
   },
   "outputs": [
    {
     "data": {
      "image/png": "[encoded data removed]",
      "text/plain": [
       "<matplotlib.figure.Figure at 0x119dfcc88>"
      ]
     },
     "metadata": {},
     "output_type": "display_data"
    }
   ],
   "source": [
    "k = sns.countplot(x=\"RelativeSize\", hue=\"Fate\", data=titanic_df, palette=\"Greens_d\")\n",
    "k.set(xlabel='Number of Relative (siblings, spouse, parent, child) on Board', ylabel='Number of People', \n",
    "      title=\"Survivability by the Number of Relative on Board\")\n",
    "plt.show()"
   ]
  },
  {
   "cell_type": "code",
   "execution_count": 14,
   "metadata": {},
   "outputs": [
    {
     "data": {
      "image/png": "[encoded data removed]",
      "text/plain": [
       "<matplotlib.figure.Figure at 0x119b5d198>"
      ]
     },
     "metadata": {},
     "output_type": "display_data"
    }
   ],
   "source": [
    "sns.countplot(x=\"RelativeSize\", hue=\"Survived\", data=titanic_df, palette=\"Greens_d\").set(xlabel=\n",
    "                'Number of Relative (siblings, spouse, parent, child) on Board', ylabel='Number of People',\n",
    "                title=\"Survivability by the Number of Relative on Board\")\n",
    "handles, labels = plt.gca().get_legend_handles_labels()\n",
    "plt.legend(handles, ['Perished','Survived'])\n",
    "plt.show()          "
   ]
  },
  {
   "cell_type": "markdown",
   "metadata": {},
   "source": [
    "The number of relatives that people have in Titanic is up to 10 people. I find that no one that has more than 6 relatives on board survive. Those who have no relative has quite low survivability.\n",
    "\n",
    "I will group the one that have relative on board into one group. I am creating a new column called 'Relative'. Those who have relative on board is assigned number 1, those who don't have is assigned number 0."
   ]
  },
  {
   "cell_type": "code",
   "execution_count": 6,
   "metadata": {
    "collapsed": true
   },
   "outputs": [],
   "source": [
    "titanic_df['Relative'] = np.where(titanic_df['RelativeSize'] != 0, 'have relative', 'alone')"
   ]
  },
  {
   "cell_type": "code",
   "execution_count": 26,
   "metadata": {},
   "outputs": [
    {
     "data": {
      "text/html": [
       "<div>\n",
       "<style>\n",
       "    .dataframe thead tr:only-child th {\n",
       "        text-align: right;\n",
       "    }\n",
       "\n",
       "    .dataframe thead th {\n",
       "        text-align: left;\n",
       "    }\n",
       "\n",
       "    .dataframe tbody tr th {\n",
       "        vertical-align: top;\n",
       "    }\n",
       "</style>\n",
       "<table border=\"1\" class=\"dataframe\">\n",
       "  <thead>\n",
       "    <tr style=\"text-align: right;\">\n",
       "      <th>Relative</th>\n",
       "      <th>alone</th>\n",
       "      <th>have relative</th>\n",
       "    </tr>\n",
       "    <tr>\n",
       "      <th>Fate</th>\n",
       "      <th></th>\n",
       "      <th></th>\n",
       "    </tr>\n",
       "  </thead>\n",
       "  <tbody>\n",
       "    <tr>\n",
       "      <th>perished</th>\n",
       "      <td>374</td>\n",
       "      <td>175</td>\n",
       "    </tr>\n",
       "    <tr>\n",
       "      <th>survived</th>\n",
       "      <td>163</td>\n",
       "      <td>179</td>\n",
       "    </tr>\n",
       "  </tbody>\n",
       "</table>\n",
       "</div>"
      ],
      "text/plain": [
       "Relative  alone  have relative\n",
       "Fate                          \n",
       "perished    374            175\n",
       "survived    163            179"
      ]
     },
     "execution_count": 26,
     "metadata": {},
     "output_type": "execute_result"
    }
   ],
   "source": [
    "titanic_df.groupby(['Fate','Relative'])['Relative'].count().unstack('Relative')"
   ]
  },
  {
   "cell_type": "code",
   "execution_count": 27,
   "metadata": {},
   "outputs": [
    {
     "data": {
      "image/png": "[encoded data removed]",
      "text/plain": [
       "<matplotlib.figure.Figure at 0x119c16a20>"
      ]
     },
     "metadata": {},
     "output_type": "display_data"
    }
   ],
   "source": [
    "h = sns.countplot(x=\"Relative\", hue=\"Fate\", data=titanic_df, saturation=1, palette=\"GnBu_d\")\n",
    "h.set(ylabel='Number of People', xlabel='Relative Presence', \n",
    "      title=\"Survivability by the presence of Relative on Board\")\n",
    "plt.show()"
   ]
  },
  {
   "cell_type": "code",
   "execution_count": 8,
   "metadata": {},
   "outputs": [
    {
     "data": {
      "image/png": "[encoded data removed]",
      "text/plain": [
       "<matplotlib.figure.Figure at 0x1196d56d8>"
      ]
     },
     "metadata": {},
     "output_type": "display_data"
    }
   ],
   "source": [
    "plot = sns.countplot(x=\"Relative\", hue=\"Survived\", data=titanic_df, palette=\"GnBu_d\")\n",
    "plot.set(xlabel='Relative presence', ylabel='Number of People')\n",
    "sns.plt.title(\"Survivability by the presence of Relative on Board\")\n",
    "labels_x = [\"Have relative\",\"Alone\"]\n",
    "plot.set_xticklabels(labels_x)\n",
    "\n",
    "# access current labels:\n",
    "handles, labels = plt.gca().get_legend_handles_labels()\n",
    "# create new labels\n",
    "plt.legend(handles, ['Perished','Survived'])\n",
    "plt.show()"
   ]
  },
  {
   "cell_type": "markdown",
   "metadata": {},
   "source": [
    "The survivability difference between those who have relatives onboard and those who don't have seems to be obvious. But I am going to have Chi Square test of independence for these data to make sure whether it has dependence. "
   ]
  },
  {
   "cell_type": "code",
   "execution_count": 28,
   "metadata": {
    "collapsed": true
   },
   "outputs": [],
   "source": [
    "import scipy.stats as stats\n",
    "from scipy.stats import mode"
   ]
  },
  {
   "cell_type": "code",
   "execution_count": 29,
   "metadata": {
    "collapsed": true
   },
   "outputs": [],
   "source": [
    "Relative = titanic_df.groupby(['Fate','Relative'])['Relative'].count().unstack('Relative')"
   ]
  },
  {
   "cell_type": "code",
   "execution_count": 30,
   "metadata": {},
   "outputs": [
    {
     "data": {
      "text/html": [
       "<div>\n",
       "<style>\n",
       "    .dataframe thead tr:only-child th {\n",
       "        text-align: right;\n",
       "    }\n",
       "\n",
       "    .dataframe thead th {\n",
       "        text-align: left;\n",
       "    }\n",
       "\n",
       "    .dataframe tbody tr th {\n",
       "        vertical-align: top;\n",
       "    }\n",
       "</style>\n",
       "<table border=\"1\" class=\"dataframe\">\n",
       "  <thead>\n",
       "    <tr style=\"text-align: right;\">\n",
       "      <th>Relative</th>\n",
       "      <th>alone</th>\n",
       "      <th>have relative</th>\n",
       "      <th>RowTotal</th>\n",
       "    </tr>\n",
       "    <tr>\n",
       "      <th>Fate</th>\n",
       "      <th></th>\n",
       "      <th></th>\n",
       "      <th></th>\n",
       "    </tr>\n",
       "  </thead>\n",
       "  <tbody>\n",
       "    <tr>\n",
       "      <th>perished</th>\n",
       "      <td>374</td>\n",
       "      <td>175</td>\n",
       "      <td>549</td>\n",
       "    </tr>\n",
       "    <tr>\n",
       "      <th>survived</th>\n",
       "      <td>163</td>\n",
       "      <td>179</td>\n",
       "      <td>342</td>\n",
       "    </tr>\n",
       "    <tr>\n",
       "      <th>ColTotal</th>\n",
       "      <td>537</td>\n",
       "      <td>354</td>\n",
       "      <td>891</td>\n",
       "    </tr>\n",
       "  </tbody>\n",
       "</table>\n",
       "</div>"
      ],
      "text/plain": [
       "Relative  alone  have relative  RowTotal\n",
       "Fate                                    \n",
       "perished    374            175       549\n",
       "survived    163            179       342\n",
       "ColTotal    537            354       891"
      ]
     },
     "execution_count": 30,
     "metadata": {},
     "output_type": "execute_result"
    }
   ],
   "source": [
    "family = Relative.copy()\n",
    "family[\"RowTotal\"] = family.sum(axis=1)\n",
    "family.loc[\"ColTotal\"] = family.sum(axis=0)\n",
    "family"
   ]
  },
  {
   "cell_type": "code",
   "execution_count": 31,
   "metadata": {},
   "outputs": [
    {
     "data": {
      "text/plain": [
       "(36.00051446773864,\n",
       " 1.9726543846517183e-09,\n",
       " 1,\n",
       " array([[ 330.87878788,  218.12121212],\n",
       "        [ 206.12121212,  135.87878788]]))"
      ]
     },
     "execution_count": 31,
     "metadata": {},
     "output_type": "execute_result"
    }
   ],
   "source": [
    "stats.chi2_contingency(observed= Relative)"
   ]
  },
  {
   "cell_type": "markdown",
   "metadata": {},
   "source": [
    "Chi Sq = 36 <br>\n",
    "P Value = 1.97 <br>\n",
    "df = 1\n",
    "\n",
    "The P value is far greater that the alpha 0.05. It is clearly shown that having relative on board affected the survivability."
   ]
  },
  {
   "cell_type": "markdown",
   "metadata": {},
   "source": [
    "### Does the cabin side affect the survivability? ###\n",
    "\n",
    "I am going to check whether there is correlation between those who stay in Starboard and those who stay in Port side of the ship. Those who stay in Starboard side stay in odd-number cabin. Those who stay in Port side stay in even-number cabin."
   ]
  },
  {
   "cell_type": "code",
   "execution_count": 32,
   "metadata": {},
   "outputs": [
    {
     "data": {
      "text/html": [
       "<div>\n",
       "<style>\n",
       "    .dataframe thead tr:only-child th {\n",
       "        text-align: right;\n",
       "    }\n",
       "\n",
       "    .dataframe thead th {\n",
       "        text-align: left;\n",
       "    }\n",
       "\n",
       "    .dataframe tbody tr th {\n",
       "        vertical-align: top;\n",
       "    }\n",
       "</style>\n",
       "<table border=\"1\" class=\"dataframe\">\n",
       "  <thead>\n",
       "    <tr style=\"text-align: right;\">\n",
       "      <th>CabinSide</th>\n",
       "      <th>Port</th>\n",
       "      <th>Starboard</th>\n",
       "      <th>Unknown</th>\n",
       "    </tr>\n",
       "    <tr>\n",
       "      <th>Fate</th>\n",
       "      <th></th>\n",
       "      <th></th>\n",
       "      <th></th>\n",
       "    </tr>\n",
       "  </thead>\n",
       "  <tbody>\n",
       "    <tr>\n",
       "      <th>perished</th>\n",
       "      <td>42</td>\n",
       "      <td>24</td>\n",
       "      <td>483</td>\n",
       "    </tr>\n",
       "    <tr>\n",
       "      <th>survived</th>\n",
       "      <td>66</td>\n",
       "      <td>68</td>\n",
       "      <td>208</td>\n",
       "    </tr>\n",
       "  </tbody>\n",
       "</table>\n",
       "</div>"
      ],
      "text/plain": [
       "CabinSide  Port  Starboard  Unknown\n",
       "Fate                               \n",
       "perished     42         24      483\n",
       "survived     66         68      208"
      ]
     },
     "execution_count": 32,
     "metadata": {},
     "output_type": "execute_result"
    }
   ],
   "source": [
    "titanic_df.groupby(['CabinSide','Fate'])['CabinSide'].count().unstack('CabinSide')"
   ]
  },
  {
   "cell_type": "markdown",
   "metadata": {
    "collapsed": true
   },
   "source": [
    "It seems that we don't know most of the passenger cabin side. I only get about 100 people stay in each side of the Ship. Another ~700 people is unknown. <br>\n",
    "I am going to have Chi-Squared Test of Independence to know whether the two variables (Cabin side and Survivability) are independent. I will get rid of the people in the Unknown side."
   ]
  },
  {
   "cell_type": "code",
   "execution_count": 33,
   "metadata": {
    "collapsed": true
   },
   "outputs": [],
   "source": [
    "data = titanic_df.groupby(['CabinSide','Fate'])['CabinSide'].count().unstack('CabinSide').iloc[:,0:2]\n",
    "observed = data.copy()  # get the table without total"
   ]
  },
  {
   "cell_type": "code",
   "execution_count": 34,
   "metadata": {},
   "outputs": [
    {
     "data": {
      "text/html": [
       "<div>\n",
       "<style>\n",
       "    .dataframe thead tr:only-child th {\n",
       "        text-align: right;\n",
       "    }\n",
       "\n",
       "    .dataframe thead th {\n",
       "        text-align: left;\n",
       "    }\n",
       "\n",
       "    .dataframe tbody tr th {\n",
       "        vertical-align: top;\n",
       "    }\n",
       "</style>\n",
       "<table border=\"1\" class=\"dataframe\">\n",
       "  <thead>\n",
       "    <tr style=\"text-align: right;\">\n",
       "      <th>CabinSide</th>\n",
       "      <th>Port</th>\n",
       "      <th>Starboard</th>\n",
       "      <th>RowTotal</th>\n",
       "    </tr>\n",
       "    <tr>\n",
       "      <th>Fate</th>\n",
       "      <th></th>\n",
       "      <th></th>\n",
       "      <th></th>\n",
       "    </tr>\n",
       "  </thead>\n",
       "  <tbody>\n",
       "    <tr>\n",
       "      <th>perished</th>\n",
       "      <td>42</td>\n",
       "      <td>24</td>\n",
       "      <td>66</td>\n",
       "    </tr>\n",
       "    <tr>\n",
       "      <th>survived</th>\n",
       "      <td>66</td>\n",
       "      <td>68</td>\n",
       "      <td>134</td>\n",
       "    </tr>\n",
       "    <tr>\n",
       "      <th>ColTotal</th>\n",
       "      <td>108</td>\n",
       "      <td>92</td>\n",
       "      <td>200</td>\n",
       "    </tr>\n",
       "  </tbody>\n",
       "</table>\n",
       "</div>"
      ],
      "text/plain": [
       "CabinSide  Port  Starboard  RowTotal\n",
       "Fate                                \n",
       "perished     42         24        66\n",
       "survived     66         68       134\n",
       "ColTotal    108         92       200"
      ]
     },
     "execution_count": 34,
     "metadata": {},
     "output_type": "execute_result"
    }
   ],
   "source": [
    "data[\"RowTotal\"] = data.sum(axis=1)\n",
    "data.loc[\"ColTotal\"] = data.sum(axis=0)\n",
    "data"
   ]
  },
  {
   "cell_type": "code",
   "execution_count": 35,
   "metadata": {},
   "outputs": [
    {
     "data": {
      "text/plain": [
       "(3.1262586205264111, 0.077040358396788494, 1, array([[ 35.64,  30.36],\n",
       "        [ 72.36,  61.64]]))"
      ]
     },
     "execution_count": 35,
     "metadata": {},
     "output_type": "execute_result"
    }
   ],
   "source": [
    "stats.chi2_contingency(observed= observed)"
   ]
  },
  {
   "cell_type": "markdown",
   "metadata": {
    "collapsed": true
   },
   "source": [
    "Chi Sq = 3.126 <br>\n",
    "P Value = 0.077 <br>\n",
    "df = 1\n",
    "\n",
    "The P Value is more than 0.05 but less than 0.1. It is not significant if the alpha is 0.05, but significant if alpha is 0.10.\n",
    "\n",
    "There are quite a lot of people that we don't have the cabin number data. If we can get more data, perhaps we can get different result. I am curious to find out the survivability among those whose cabin is unknown."
   ]
  },
  {
   "cell_type": "code",
   "execution_count": 36,
   "metadata": {},
   "outputs": [
    {
     "data": {
      "text/html": [
       "<div>\n",
       "<style>\n",
       "    .dataframe thead tr:only-child th {\n",
       "        text-align: right;\n",
       "    }\n",
       "\n",
       "    .dataframe thead th {\n",
       "        text-align: left;\n",
       "    }\n",
       "\n",
       "    .dataframe tbody tr th {\n",
       "        vertical-align: top;\n",
       "    }\n",
       "</style>\n",
       "<table border=\"1\" class=\"dataframe\">\n",
       "  <thead>\n",
       "    <tr style=\"text-align: right;\">\n",
       "      <th>Fate</th>\n",
       "      <th>perished</th>\n",
       "      <th>survived</th>\n",
       "    </tr>\n",
       "    <tr>\n",
       "      <th>CabinSide</th>\n",
       "      <th></th>\n",
       "      <th></th>\n",
       "    </tr>\n",
       "  </thead>\n",
       "  <tbody>\n",
       "    <tr>\n",
       "      <th>Port</th>\n",
       "      <td>42</td>\n",
       "      <td>66</td>\n",
       "    </tr>\n",
       "    <tr>\n",
       "      <th>Starboard</th>\n",
       "      <td>24</td>\n",
       "      <td>68</td>\n",
       "    </tr>\n",
       "    <tr>\n",
       "      <th>Unknown</th>\n",
       "      <td>483</td>\n",
       "      <td>208</td>\n",
       "    </tr>\n",
       "  </tbody>\n",
       "</table>\n",
       "</div>"
      ],
      "text/plain": [
       "Fate       perished  survived\n",
       "CabinSide                    \n",
       "Port             42        66\n",
       "Starboard        24        68\n",
       "Unknown         483       208"
      ]
     },
     "execution_count": 36,
     "metadata": {},
     "output_type": "execute_result"
    }
   ],
   "source": [
    "titanic_df.groupby(['CabinSide','Fate'])['Fate'].count().unstack('Fate')"
   ]
  },
  {
   "cell_type": "code",
   "execution_count": 37,
   "metadata": {},
   "outputs": [
    {
     "data": {
      "text/plain": [
       "CabinSide  Survive  Total  SurvivalRate\n",
       "Port       66       108    61.111111       108\n",
       "Starboard  68       92     73.913043        92\n",
       "Unknown    208      691    30.101302       691\n",
       "Name: SurvivalRate, dtype: int64"
      ]
     },
     "execution_count": 37,
     "metadata": {},
     "output_type": "execute_result"
    }
   ],
   "source": [
    "titanic_df['Survive'] = titanic_df.groupby(['CabinSide'])['Survived'].transform('sum')\n",
    "titanic_df['Total'] = titanic_df.groupby(['CabinSide'])['Survived'].transform('count')\n",
    "titanic_df['SurvivalRate'] = titanic_df['Survive']*100 / titanic_df['Total']\n",
    "titanic_df.groupby(['CabinSide', 'Survive','Total'])[\"SurvivalRate\"].value_counts()"
   ]
  },
  {
   "cell_type": "markdown",
   "metadata": {},
   "source": [
    "The survivability on the Port side is 61.1%, whereas in Starboard side is 73.9%. The survivability among the unknown cabin is quite low, only 30.1%, much lower than the survivability among those that we know the cabin number.\n",
    "\n",
    "I want to know the distribution of those who don't have the cabin number vs the ticket class. I am going to create a bar chart from that data."
   ]
  },
  {
   "cell_type": "code",
   "execution_count": 38,
   "metadata": {},
   "outputs": [
    {
     "data": {
      "text/html": [
       "<div>\n",
       "<style>\n",
       "    .dataframe thead tr:only-child th {\n",
       "        text-align: right;\n",
       "    }\n",
       "\n",
       "    .dataframe thead th {\n",
       "        text-align: left;\n",
       "    }\n",
       "\n",
       "    .dataframe tbody tr th {\n",
       "        vertical-align: top;\n",
       "    }\n",
       "</style>\n",
       "<table border=\"1\" class=\"dataframe\">\n",
       "  <thead>\n",
       "    <tr style=\"text-align: right;\">\n",
       "      <th></th>\n",
       "      <th>CabinSide</th>\n",
       "      <th>Port</th>\n",
       "      <th>Starboard</th>\n",
       "      <th>Unknown</th>\n",
       "    </tr>\n",
       "    <tr>\n",
       "      <th>Pclass</th>\n",
       "      <th>Fate</th>\n",
       "      <th></th>\n",
       "      <th></th>\n",
       "      <th></th>\n",
       "    </tr>\n",
       "  </thead>\n",
       "  <tbody>\n",
       "    <tr>\n",
       "      <th rowspan=\"2\" valign=\"top\">1</th>\n",
       "      <th>perished</th>\n",
       "      <td>38</td>\n",
       "      <td>20</td>\n",
       "      <td>22</td>\n",
       "    </tr>\n",
       "    <tr>\n",
       "      <th>survived</th>\n",
       "      <td>58</td>\n",
       "      <td>59</td>\n",
       "      <td>19</td>\n",
       "    </tr>\n",
       "    <tr>\n",
       "      <th rowspan=\"2\" valign=\"top\">2</th>\n",
       "      <th>perished</th>\n",
       "      <td>1</td>\n",
       "      <td>1</td>\n",
       "      <td>95</td>\n",
       "    </tr>\n",
       "    <tr>\n",
       "      <th>survived</th>\n",
       "      <td>5</td>\n",
       "      <td>6</td>\n",
       "      <td>76</td>\n",
       "    </tr>\n",
       "    <tr>\n",
       "      <th rowspan=\"2\" valign=\"top\">3</th>\n",
       "      <th>perished</th>\n",
       "      <td>3</td>\n",
       "      <td>3</td>\n",
       "      <td>366</td>\n",
       "    </tr>\n",
       "    <tr>\n",
       "      <th>survived</th>\n",
       "      <td>3</td>\n",
       "      <td>3</td>\n",
       "      <td>113</td>\n",
       "    </tr>\n",
       "  </tbody>\n",
       "</table>\n",
       "</div>"
      ],
      "text/plain": [
       "CabinSide        Port  Starboard  Unknown\n",
       "Pclass Fate                              \n",
       "1      perished    38         20       22\n",
       "       survived    58         59       19\n",
       "2      perished     1          1       95\n",
       "       survived     5          6       76\n",
       "3      perished     3          3      366\n",
       "       survived     3          3      113"
      ]
     },
     "execution_count": 38,
     "metadata": {},
     "output_type": "execute_result"
    }
   ],
   "source": [
    "titanic_df.groupby(['Pclass','Fate','CabinSide'])['CabinSide'].count().unstack('CabinSide')"
   ]
  },
  {
   "cell_type": "code",
   "execution_count": 39,
   "metadata": {},
   "outputs": [
    {
     "data": {
      "image/png": "[encoded data removed]",
      "text/plain": [
       "<matplotlib.figure.Figure at 0x114910860>"
      ]
     },
     "metadata": {},
     "output_type": "display_data"
    }
   ],
   "source": [
    "g = sns.countplot(x=\"CabinSide\", hue=\"Pclass\", data=titanic_df, palette=\"Paired\")\n",
    "g.set(xlabel='The Side of the Cabin', ylabel='Number of People', title= \"Survivability by the Side of the Cabin\")\n",
    "plt.show()"
   ]
  },
  {
   "cell_type": "markdown",
   "metadata": {},
   "source": [
    "I find that those who are in the second and third class are more likely not to be known their cabin number than those in the first class. There are only less than 15 people of those who stay in second/third class that we can know their cabin number. It means that the port and starboard comparison is skewed towards those who stay in the first class cabin."
   ]
  },
  {
   "cell_type": "markdown",
   "metadata": {},
   "source": [
    "### Conclusion ###\n",
    "\n",
    "I find that the male passenger have much lower survivability than the female and children passenger. It is noted that the lifeboat capacity is less the passenger on board, therefore ‘women and child first’ policy affecting the survivability. I find from the search engine that the water temperature surrounding Titanic at the time of the disaster is about 28 F or -2 C. Those who were not in the lifeboat cannot bear quite long time in such a cold temperature.\n",
    "\n",
    "The other finding is the first class passenger have much higher survivability than the second and the third class. The third class is the worst. It might be because of their cabin distance with the lifeboat of due to they have more power in getting into lifeboat than the other passenger.\n",
    "\n",
    "The passenger who travel alone have much lower survivability than those who travel together with siblings, parents, child, or spouse, as what is proved from the Chi square test. Perhaps they can work together to get into the lifeboat.\n",
    "\n",
    "The passenger who stay in starboard side have slightly higher survivability than those who stay in port side (73.9% against 61.1%). The correlation is not that convincing if the alpha value is 0.05. The probability is 0.077. Most of the passenger cabin number is unknown. If I can get more data about cabin number, I might get a different conclusion.\n",
    "\n",
    "The passengers that we don’t know their cabin number have much lower survivability. After further investigation, I find that most of them stay in the third class cabin. In fact most of those that we know the cabin number stay in the first class. Therefore the port/starboard side data biased toward those who stay in the first class cabin. I am not sure whether the cabin number data is getting through sample or that's the only actual data that we can get. If it is sample, we do not know how the sample was chosen from the actual population of people. There might be an intentional/unintentional bias in how the sample was selected.\n",
    "\n",
    "I conclude that to have a higher survivability in Titanic disaster, one should be: \n",
    "- female/child\n",
    "- stay in the first class cabin \n",
    "- travel together with family member\n",
    "\n",
    "I understand that there are more possibilities in survivability. This analysis have limitation in that it does not have the full data for every passenger and where they are located when the collision happened. The availability of that data will help to find out the reason why certain group of people can survive better than the others. Thank you."
   ]
  }
 ],
 "metadata": {
  "kernelspec": {
   "display_name": "Python 3",
   "language": "python",
   "name": "python3"
  },
  "language_info": {
   "codemirror_mode": {
    "name": "ipython",
    "version": 3
   },
   "file_extension": ".py",
   "mimetype": "text/x-python",
   "name": "python",
   "nbconvert_exporter": "python",
   "pygments_lexer": "ipython3",
   "version": "3.6.1"
  }
 },
 "nbformat": 4,
 "nbformat_minor": 2
}
